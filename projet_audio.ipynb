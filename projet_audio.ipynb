{
  "nbformat": 4,
  "nbformat_minor": 0,
  "metadata": {
    "colab": {
      "name": "ProjetAudio.ipynb",
      "provenance": [],
      "collapsed_sections": [],
      "private_outputs": true
    },
    "kernelspec": {
      "name": "python3",
      "display_name": "Python 3"
    },
    "language_info": {
      "name": "python"
    }
  },
  "cells": [
    {
      "cell_type": "markdown",
      "source": [
        "## Projet Audio Signal Analysis, indexing and transformation\n",
        "\n",
        "Lambert Fatoux  \n",
        "lambert.fatoux@eleves.enpc.fr\n",
        "\n",
        "**Determined Blind Source Separation Unifying\n",
        "Independent Vector Analysis and Nonnegative\n",
        "Matrix Factorization**"
      ],
      "metadata": {
        "id": "n3YK0VkMRBOG"
      }
    },
    {
      "cell_type": "code",
      "execution_count": null,
      "metadata": {
        "id": "NRm8-mkzOBcZ"
      },
      "outputs": [],
      "source": [
        "import os, sys, wave, struct\n",
        "import numpy as np\n",
        "import matplotlib.pyplot as plt\n",
        "import IPython.display as ipd\n",
        "from IPython.core.display import display\n",
        "import scipy.io.wavfile as wavfile\n",
        "import soundfile as sf\n",
        "import scipy.signal as ss\n",
        "from tqdm import tqdm\n",
        "\n",
        "from math import ceil"
      ]
    },
    {
      "cell_type": "code",
      "source": [
        "# useful functions\n",
        "def load_sound(file):\n",
        "    return wave.open(file, 'rb')\n",
        "\n",
        "def load_file(filename):\n",
        "    \"\"\"\n",
        "    Utils function used to load an audio file and get useful constants and the Fourier Transform\n",
        "    \"\"\"\n",
        "    wavefile = load_sound(filename)\n",
        "    Fs = int(wavefile.getframerate())\n",
        "    num_samples = int(wavefile.getnframes())\n",
        "    data = wavefile.readframes(num_samples)\n",
        "    data = struct.unpack('{n}h'.format(n=num_samples), data)\n",
        "    x = np.array(data)\n",
        "    \n",
        "    N=ceil(0.7*Fs)       # Window size of analysed signal (only one window of signal is analysed)\n",
        "    dF_min=Fs/N   # Minimal frequency resolution\n",
        "    w=np.hamming(N)  # Window\n",
        "    width = 4*dF_min # largeur du pic spectral (en Hz) 4*dF_min\n",
        "    eps=float(1e-20)   #precision\n",
        "    timestep = 1/float(Fs)\n",
        "    times = np.arange(len(x))*timestep\n",
        "    \n",
        "    return x,Fs, times\n",
        "\n",
        "def plot_and_hear(audio, sr):\n",
        "    display(ipd.Audio(audio, rate=sr))\n",
        "    if audio.shape[0] != 2:\n",
        "      plt.plot(audio)\n",
        "      \n",
        "def plot_sound(data, rate, title=None):\n",
        "    if data.ndim == 1:\n",
        "        data = data[:,np.newaxis]\n",
        "    times = np.arange(data.shape[0])/rate\n",
        "    plt.figure(figsize=(30,6))\n",
        "    for channel in data.T:\n",
        "        plt.fill_between(times, channel)\n",
        "    plt.xlabel('Time (s)')\n",
        "    plt.ylabel('Amplitude')\n",
        "    plt.xlim(times[0], times[-1])\n",
        "    if title:\n",
        "        plt.title(title)\n",
        "    plt.show()\n",
        "    \n",
        "def play_sound(data, rate):\n",
        "    return ipd.Audio(data.T, rate=rate)"
      ],
      "metadata": {
        "id": "VS9mg2KmSDbO"
      },
      "execution_count": null,
      "outputs": []
    },
    {
      "cell_type": "code",
      "source": [
        "fname = 'mix.wav'\n",
        "\n",
        "rate, x = wavfile.read(fname)\n",
        "print('T = {:d}, M = {:d}'.format(*x.shape))\n",
        "plot_sound(x, rate)\n",
        "play_sound(x, rate)"
      ],
      "metadata": {
        "id": "ADFhLEXHSE-G"
      },
      "execution_count": null,
      "outputs": []
    },
    {
      "cell_type": "markdown",
      "source": [
        "## 1. ICA or IVA\n",
        "\n",
        "$$Q_{IVA} (\\mathbf{W}_i) = \\sum_m\\frac{1}{J}\\sum_jG(\\mathbf{y}_{j,m}) - \\sum_i\\log |\\text{det}\\mathbf{W}_i|$$\n",
        "\n",
        "$G(\\mathbf{y}_{j,m})$ is a contast function"
      ],
      "metadata": {
        "id": "w_UXcRU-U9-t"
      }
    },
    {
      "cell_type": "markdown",
      "source": [
        "## 2. Nonnegative Matix Factorization\n",
        "\n",
        "$$Q_{NMF} = \\sum_{i,j}\\left(\\frac{d_{i,j}}{\\sum_lt_{il}v_{lj}} + \\log \\sum_lt_{il}v_{lj}\\right)$$"
      ],
      "metadata": {
        "id": "gVyjjnZrVu-1"
      }
    },
    {
      "cell_type": "markdown",
      "source": [
        "## 3. Proposed method\n",
        "\n"
      ],
      "metadata": {
        "id": "ZFEkStRJXt8x"
      }
    },
    {
      "cell_type": "code",
      "source": [
        "#@title\n",
        "def projection_back(Y, reference):\n",
        "    \"\"\"\n",
        "    Args:\n",
        "        Y: (n_sources, n_bins, n_frames)\n",
        "        reference: (n_bins, n_frames) or (n_channels, n_bins, n_frames)\n",
        "    Returns:\n",
        "        scale: (n_sources, n_bins) or (n_channels, n_sources, n_bins)\n",
        "    \"\"\"\n",
        "    # TODO: Use pseudo inverse ?\n",
        "    n_dims = reference.ndim\n",
        "    if n_dims == 2:\n",
        "        # Y: (n_sources, n_bins, n_frames)\n",
        "        # X: (1, n_bins, n_frames)\n",
        "        X = reference[np.newaxis,:,:].transpose(1, 0, 2) # (n_bins, n_channels, n_frames)\n",
        "        Y = Y.transpose(1, 0, 2) # (n_bins, n_sources, n_frames)\n",
        "        Y_Hermite = Y.transpose(0, 2, 1).conj() # (n_bins, n_frames, n_sources)\n",
        "        YY_Hermite_inverse = np.linalg.inv(Y @ Y_Hermite) # (n_bins, n_sources, n_sources)\n",
        "        A = X @ Y_Hermite @ YY_Hermite_inverse # (n_bins, n_channels, n_sources)\n",
        "        scale = A[:,0,:].transpose(1, 0) # (n_sources, n_bins)\n",
        "    elif n_dims == 3:\n",
        "        # Y: (n_sources, n_bins, n_frames)\n",
        "        # X: (n_channels, n_bins, n_frames)\n",
        "        X = reference.transpose(1, 0, 2) # (n_bins, n_channels, n_frames)\n",
        "        Y = Y.transpose(1, 0, 2) # (n_bins, n_sources, n_frames)\n",
        "        Y_Hermite = Y.transpose(0, 2, 1).conj() # (n_bins, n_frames, n_sources)\n",
        "        YY_Hermite_inverse = np.linalg.inv(Y @ Y_Hermite) # (n_bins, n_sources, n_sources)\n",
        "        A = X @ Y_Hermite @ YY_Hermite_inverse # (n_bins, n_channels, n_sources)\n",
        "        scale = A.transpose(1, 2, 0) # (n_channels, n_sources, n_bins)\n",
        "    else:\n",
        "        raise ValueError(\"reference.ndim is expected 2 or 3, but given {}.\".format(n_dims))\n",
        "\n",
        "    return scale"
      ],
      "metadata": {
        "cellView": "form",
        "id": "5fEnE9DrEwA-"
      },
      "execution_count": null,
      "outputs": []
    },
    {
      "cell_type": "code",
      "source": [
        "#@title\n",
        "EPS=1e-12\n",
        "THRESHOLD=1e+12\n",
        "\n",
        "class ILRMAbase:\n",
        "    \"\"\"\n",
        "    Independent Low-rank Matrix Analysis\n",
        "    \"\"\"\n",
        "    def __init__(self, n_basis=10, partitioning=False, normalize=True, callbacks=None, recordable_loss=True, eps=EPS):\n",
        "        if callbacks is not None:\n",
        "            if callable(callbacks):\n",
        "                callbacks = [callbacks]\n",
        "            self.callbacks = callbacks\n",
        "        else:\n",
        "            self.callbacks = None\n",
        "        self.eps = eps\n",
        "        \n",
        "        self.n_basis = n_basis\n",
        "        self.partitioning = partitioning\n",
        "        self.normalize = normalize\n",
        "\n",
        "\n",
        "        self.input = None\n",
        "        self.recordable_loss = recordable_loss\n",
        "        if self.recordable_loss:\n",
        "            self.loss = []\n",
        "        else:\n",
        "            self.loss = None\n",
        "    \n",
        "    def _reset(self, **kwargs):\n",
        "\n",
        "        for key in kwargs.keys():\n",
        "            setattr(self, key, kwargs[key])\n",
        "\n",
        "        n_basis = self.n_basis\n",
        "        eps = self.eps\n",
        "\n",
        "        X = self.input\n",
        "\n",
        "        n_channels, n_bins, n_frames = X.shape\n",
        "        n_sources = n_channels # n_channels == n_sources\n",
        "\n",
        "        self.n_sources, self.n_channels = n_sources, n_channels\n",
        "        self.n_bins, self.n_frames = n_bins, n_frames\n",
        "\n",
        "        W = np.eye(n_sources, n_channels, dtype=np.complex128)\n",
        "        self.demix_filter = np.tile(W, reps=(n_bins, 1, 1))\n",
        "        \n",
        "        self.estimation = self.separate(X, demix_filter=W)\n",
        "\n",
        "        # if self.partitioning\n",
        "        self.basis = np.random.rand(n_sources, n_bins, n_basis)\n",
        "        self.activation = np.random.rand(n_sources, n_basis, n_frames)\n",
        "      \n",
        "    def separate(self, input, demix_filter):\n",
        "        \"\"\"\n",
        "        Args:\n",
        "            input (n_channels, n_bins, n_frames): \n",
        "            demix_filter (n_bins, n_sources, n_channels): \n",
        "        Returns:\n",
        "            output (n_channels, n_bins, n_frames): \n",
        "        \"\"\"\n",
        "        input = input.transpose(1, 0, 2)\n",
        "        estimation = demix_filter @ input\n",
        "        output = estimation.transpose(1, 0, 2)\n",
        "\n",
        "        return output\n",
        "    \n",
        "    def compute_demix_filter(self, estimation, input):\n",
        "        X, Y = input, estimation\n",
        "        X_Hermite = X.transpose(1, 2, 0).conj()\n",
        "        XX_Hermite = X.transpose(1, 0, 2) @ X_Hermite\n",
        "        demix_filter = Y.transpose(1, 0, 2) @ X_Hermite @ np.linalg.inv(XX_Hermite)\n",
        "\n",
        "        return demix_filter"
      ],
      "metadata": {
        "cellView": "form",
        "id": "EmbQOn-u3PET"
      },
      "execution_count": null,
      "outputs": []
    },
    {
      "cell_type": "code",
      "source": [
        "class GaussILRMA(ILRMAbase):\n",
        "    def __init__(self, n_basis=10, partitioning=False, normalize='power', reference_id=0, callbacks=None, recordable_loss=True, eps=EPS, threshold=THRESHOLD):\n",
        "        super().__init__(n_basis=n_basis, partitioning=partitioning, normalize=normalize, callbacks=callbacks, recordable_loss=recordable_loss, eps=eps)\n",
        "\n",
        "        self.reference_id = reference_id\n",
        "        self.threshold = threshold\n",
        "\n",
        "    def __call__(self, input, iteration=100, **kwargs):\n",
        "        \"\"\"\n",
        "        Args:\n",
        "            input (n_channels, n_bins, n_frames)\n",
        "        Returns:\n",
        "            output (n_channels, n_bins, n_frames)\n",
        "        \"\"\"\n",
        "        self.input = input\n",
        "\n",
        "        self._reset(**kwargs)\n",
        "\n",
        "        if self.recordable_loss:\n",
        "            loss = self.compute_negative_loglikelihood()\n",
        "            self.loss.append(loss)\n",
        "        \n",
        "        if self.callbacks is not None:\n",
        "        \n",
        "            for callback in self.callbacks:\n",
        "                callback(self)\n",
        "\n",
        "        for idx in tqdm(range(iteration)):\n",
        "\n",
        "            self.update_once()\n",
        "\n",
        "            if self.recordable_loss:\n",
        "                loss = self.compute_negative_loglikelihood()\n",
        "                self.loss.append(loss)\n",
        "\n",
        "            if self.callbacks is not None:\n",
        "                for callback in self.callbacks:\n",
        "                    callback(self)\n",
        "        \n",
        "\n",
        "        X, W = input, self.demix_filter\n",
        "        Y = self.separate(X, demix_filter=W)\n",
        "        \n",
        "        reference_id = self.reference_id\n",
        "        \n",
        "        scale = projection_back(Y, reference=X[reference_id])\n",
        "        print(scale.shape)\n",
        "        output = Y * scale[..., np.newaxis] # (n_sources, n_bins, n_frames)\n",
        "        #output = Y\n",
        "        self.estimation = output\n",
        "\n",
        "        return output\n",
        "\n",
        "    def __repr__(self):\n",
        "        s = \"Gauss-ILRMA(\"\n",
        "        s += \"n_basis={n_basis}\"\n",
        "        s += \", partitioning={partitioning}\"\n",
        "        s += \", normalize={normalize}\"\n",
        "        s += \")\"\n",
        "\n",
        "        return s.format(**self.__dict__)\n",
        "\n",
        "    def update_once(self):\n",
        "        eps = self.eps\n",
        "\n",
        "        self.update_source_model_basic()\n",
        "        self.update_spatial_model_ip()\n",
        "        \n",
        "        if self.normalize:\n",
        "            X, W = self.input, self.demix_filter\n",
        "            Y = self.separate(X, demix_filter=W)\n",
        "            self.estimation = Y\n",
        "            \n",
        "            T = self.basis\n",
        "\n",
        "            if self.normalize == 'power':\n",
        "                P = np.abs(Y)**2\n",
        "                aux = np.sqrt(P.mean(axis=(1, 2))) # (n_sources,)\n",
        "                aux[aux < eps] = eps\n",
        "\n",
        "                # Normalize\n",
        "                W = W / aux[np.newaxis, :, np.newaxis]\n",
        "                Y = Y / aux[:, np.newaxis, np.newaxis]\n",
        "\n",
        "                # if self.partitioning\n",
        "                T = T / (aux[:, np.newaxis, np.newaxis]**2)\n",
        "            else:\n",
        "                raise ValueError(\"Not support normalization based on {}. Choose 'power' or 'projection-back'\".format(self.normalize))\n",
        "\n",
        "            self.estimation = Y\n",
        "            self.basis = T\n",
        "\n",
        "            if self.demix_filter is not None:\n",
        "                self.demix_filter = W\n",
        "    \n",
        "    def update_source_model_basic(self):\n",
        "        eps = self.eps\n",
        "\n",
        "        if self.demix_filter is None:\n",
        "            Y = self.estimation\n",
        "        else:\n",
        "            X, W = self.input, self.demix_filter\n",
        "            Y = self.separate(X, demix_filter=W)\n",
        "        \n",
        "        P = np.abs(Y)**2\n",
        "        \n",
        "\n",
        "        T, V = self.basis, self.activation\n",
        "\n",
        "        # Update basis\n",
        "        V_transpose = V.transpose(0, 2, 1)\n",
        "        TV = T @ V\n",
        "        TV[TV < eps] = eps\n",
        "        division, TV_inverse = P / (TV**2), 1 / TV\n",
        "        TVV = TV_inverse @ V_transpose\n",
        "        TVV[TVV < eps] = eps\n",
        "        T = T * (division @ V_transpose / TVV)**(1/2)\n",
        "        \n",
        "        # Update activations\n",
        "        T_transpose = T.transpose(0, 2, 1)\n",
        "        TV = T @ V\n",
        "        TV[TV < eps] = eps\n",
        "        division, TV_inverse = P / (TV**2), 1 / TV\n",
        "        TTV = T_transpose @ TV_inverse\n",
        "        TTV[TTV < eps] = eps\n",
        "        V = V * (T_transpose @ division / TTV)**(1/2)\n",
        "\n",
        "        self.basis, self.activation = T, V\n",
        "    \n",
        "    def update_spatial_model_ip(self):\n",
        "        n_sources, n_channels = self.n_sources, self.n_channels\n",
        "        n_bins = self.n_bins\n",
        "\n",
        "        eps, threshold = self.eps, self.threshold\n",
        "\n",
        "        # if self.partitioning\n",
        "        T, V = self.basis, self.activation\n",
        "        TV = T @ V\n",
        "        R = TV # (n_sources, n_bins, n_frames)\n",
        "\n",
        "        X = self.input\n",
        "        W = self.demix_filter\n",
        "        R = R[..., np.newaxis, np.newaxis] # (n_sources, n_bins, n_frames, 1, 1)\n",
        "        \n",
        "        X = X.transpose(1, 2, 0) # (n_bins, n_frames, n_channels)\n",
        "        X = X[..., np.newaxis]\n",
        "        X_Hermite = X.transpose(0, 1, 3, 2).conj()\n",
        "        XX = X @ X_Hermite # (n_bins, n_frames, n_channels, n_channels)\n",
        "        R[R < eps] = eps\n",
        "        U = XX / R\n",
        "        U = U.mean(axis=2) # (n_sources, n_bins, n_channels, n_channels)\n",
        "        E = np.eye(n_sources, n_channels)\n",
        "        E = np.tile(E, reps=(n_bins, 1, 1)) # (n_bins, n_sources, n_channels)\n",
        "\n",
        "        for source_idx in range(n_sources):\n",
        "            # W: (n_bins, n_sources, n_channels), U: (n_sources, n_bins, n_channels, n_channels)\n",
        "            w_n_Hermite = W[:, source_idx, :] # (n_bins, n_channels)\n",
        "            U_n = U[source_idx] # (n_bins, n_channels, n_channels)\n",
        "            WU = W @ U_n # (n_bins, n_sources, n_channels)\n",
        "            condition = np.linalg.cond(WU) < threshold # (n_bins,)\n",
        "            condition = condition[:, np.newaxis] # (n_bins, 1)\n",
        "            e_n = E[:, source_idx, :]\n",
        "            w_n = np.linalg.solve(WU, e_n)\n",
        "            wUw = w_n[:, np.newaxis, :].conj() @ U_n @ w_n[:, :, np.newaxis]\n",
        "            denominator = np.sqrt(wUw.squeeze(axis=-1))\n",
        "            w_n_Hermite = np.where(condition, w_n.conj()/ denominator, w_n_Hermite)\n",
        "            # if condition number is too big, `denominator[denominator < eps] = eps` may diverge of cost function.\n",
        "            W[:, source_idx, :] = w_n_Hermite\n",
        "\n",
        "        self.demix_filter = W\n",
        "\n",
        "        X = self.input\n",
        "        Y = self.separate(X, demix_filter=W)\n",
        "        \n",
        "        self.estimation = Y\n",
        "        \n",
        "    def compute_negative_loglikelihood(self):\n",
        "        n_frames = self.n_frames\n",
        "        eps = self.eps\n",
        "\n",
        "        X = self.input\n",
        "\n",
        "        if self.demix_filter is None:\n",
        "            Y = self.estimation\n",
        "            W = self.compute_demix_filter(Y, X)\n",
        "        else:\n",
        "            W = self.demix_filter\n",
        "            Y = self.separate(X, demix_filter=W)\n",
        "        \n",
        "        P = np.abs(Y)**2 # (n_sources, n_bins, n_frames)\n",
        "        # if self.partitioning\n",
        "        T, V = self.basis, self.activation\n",
        "        TV = T @ V # (n_sources, n_bins, n_frames)\n",
        "        R = TV\n",
        "        \n",
        "        R[R < eps] = eps\n",
        "        loss = np.sum(P / R + np.log(R)) - 2 * n_frames * np.sum(np.log(np.abs(np.linalg.det(W))))\n",
        "\n",
        "        return loss"
      ],
      "metadata": {
        "id": "pCB4bj8wSauL"
      },
      "execution_count": null,
      "outputs": []
    },
    {
      "cell_type": "code",
      "source": [
        "mixture, sr = sf.read(\"sample2.wav\")\n",
        "x = mixture.T\n",
        "n_channels, T = x.shape\n",
        "n_sources = n_channels"
      ],
      "metadata": {
        "id": "O4LgWmomE0ZE"
      },
      "execution_count": null,
      "outputs": []
    },
    {
      "cell_type": "code",
      "source": [
        "display(ipd.Audio(mixture.T, rate=sr))"
      ],
      "metadata": {
        "id": "AOLRItXdRJkN"
      },
      "execution_count": null,
      "outputs": []
    },
    {
      "cell_type": "code",
      "source": [
        "for idx in range(n_channels):\n",
        "    display(ipd.Audio(x[idx], rate=sr))"
      ],
      "metadata": {
        "id": "_89NiCWRFrrR"
      },
      "execution_count": null,
      "outputs": []
    },
    {
      "cell_type": "code",
      "source": [
        "fft_size, hop_size = 4096, 2048\n",
        "_, _, X = ss.stft(x, nperseg=fft_size, noverlap=fft_size-hop_size)\n",
        "np.random.seed(111)\n",
        "ilrma = GaussILRMA(n_basis=2)\n",
        "print(ilrma)\n",
        "Y = ilrma(X, iteration=100)\n",
        "_, y = ss.istft(Y, nperseg=fft_size, noverlap=fft_size-hop_size)\n",
        "y = y[:, :T]"
      ],
      "metadata": {
        "id": "TzQMiQY8FstO"
      },
      "execution_count": null,
      "outputs": []
    },
    {
      "cell_type": "code",
      "source": [
        "for idx in range(n_sources):\n",
        "    display(ipd.Audio(y[idx], rate=sr))"
      ],
      "metadata": {
        "id": "TEuyPXh7GOVU"
      },
      "execution_count": null,
      "outputs": []
    },
    {
      "cell_type": "code",
      "source": [
        "plt.figure()\n",
        "plt.title(f'Cost function with {ilrma.n_basis} basis')\n",
        "plt.plot(ilrma.loss, color='black')\n",
        "plt.hlines(0.95*ilrma.loss[-1],0,100, linestyle='--', color='r')\n",
        "plt.xlabel('Iteration')\n",
        "plt.ylabel('Loss')\n",
        "plt.savefig('loss2.png')\n",
        "plt.show()"
      ],
      "metadata": {
        "id": "t79ompwIGV-A"
      },
      "execution_count": null,
      "outputs": []
    },
    {
      "cell_type": "code",
      "source": [
        "mic_l, sr = sf.read(\"rsm2_mA.wav\")\n",
        "mic_r, sr = sf.read(\"rsm2_mB.wav\")\n",
        "x = np.vstack([mic_l, mic_r])\n",
        "n_channels, T = x.shape\n",
        "n_sources = n_channels\n",
        "\n",
        "for idx in range(n_channels):\n",
        "    display(ipd.Audio(x[idx], rate=sr))"
      ],
      "metadata": {
        "id": "uthxEVy9Xnk_"
      },
      "execution_count": null,
      "outputs": []
    },
    {
      "cell_type": "code",
      "source": [
        "fft_size, hop_size = 4096, 2048\n",
        "_, _, X = ss.stft(x, nperseg=fft_size, noverlap=fft_size-hop_size)\n",
        "np.random.seed(111)\n",
        "ilrma = GaussILRMA(n_basis=2)\n",
        "print(ilrma)\n",
        "Y = ilrma(X, iteration=100)\n",
        "_, y = ss.istft(Y, nperseg=fft_size, noverlap=fft_size-hop_size)\n",
        "y = y[:, :T]"
      ],
      "metadata": {
        "id": "TVkzIF9ZTTh1"
      },
      "execution_count": null,
      "outputs": []
    },
    {
      "cell_type": "code",
      "source": [
        "for idx in range(n_sources):\n",
        "    display(ipd.Audio(y[idx], rate=sr))"
      ],
      "metadata": {
        "id": "Mtbi4kdbWFDk"
      },
      "execution_count": null,
      "outputs": []
    },
    {
      "cell_type": "code",
      "source": [
        "plt.plot(y[0])\n",
        "plt.show()"
      ],
      "metadata": {
        "id": "Ax8HUbFfIcgy"
      },
      "execution_count": null,
      "outputs": []
    },
    {
      "cell_type": "code",
      "source": [
        "from scipy.io.wavfile import write\n",
        "write(\"example.wav\", sr, y[0])"
      ],
      "metadata": {
        "id": "-7ocm8LtIKGD"
      },
      "execution_count": null,
      "outputs": []
    },
    {
      "cell_type": "code",
      "source": [
        "plt.figure()\n",
        "plt.title('')\n",
        "plt.plot(ilrma.loss, color='black')\n",
        "plt.xlabel('Iteration')\n",
        "plt.ylabel('Loss')\n",
        "plt.show()"
      ],
      "metadata": {
        "id": "_FTBNeh8Znku"
      },
      "execution_count": null,
      "outputs": []
    },
    {
      "cell_type": "code",
      "source": [
        "mic_l, sr = sf.read(\"rssd_A.wav\")\n",
        "mic_r, sr = sf.read(\"rssd_B.wav\")\n",
        "x = np.vstack([mic_l, mic_r])\n",
        "n_channels, T = x.shape\n",
        "n_sources = n_channels\n",
        "\n",
        "for idx in range(n_channels):\n",
        "    display(ipd.Audio(x[idx], rate=sr))"
      ],
      "metadata": {
        "id": "UVv96sw5ZoBS"
      },
      "execution_count": null,
      "outputs": []
    },
    {
      "cell_type": "code",
      "source": [
        "fft_size, hop_size = 4096, 2048\n",
        "_, _, X = ss.stft(x, nperseg=fft_size, noverlap=fft_size-hop_size)\n",
        "np.random.seed(111)\n",
        "ilrma = GaussILRMA(n_basis=5)\n",
        "print(ilrma)\n",
        "Y = ilrma(X, iteration=10)\n",
        "_, y = ss.istft(Y, nperseg=fft_size, noverlap=fft_size-hop_size)\n",
        "y = y[:, :T]\n",
        "\n",
        "for idx in range(n_sources):\n",
        "    display(ipd.Audio(y[idx], rate=sr))"
      ],
      "metadata": {
        "id": "bl8qZUSwa40T"
      },
      "execution_count": null,
      "outputs": []
    },
    {
      "cell_type": "code",
      "source": [
        ""
      ],
      "metadata": {
        "id": "4tdUG9eOKSJK"
      },
      "execution_count": null,
      "outputs": []
    },
    {
      "cell_type": "code",
      "source": [
        "mixture, sr = sf.read(\"mix.wav\")\n",
        "x = mixture.T\n",
        "n_channels, T = x.shape\n",
        "n_sources = n_channels\n",
        "\n",
        "for idx in range(n_channels):\n",
        "    display(ipd.Audio(x[idx], rate=sr))"
      ],
      "metadata": {
        "id": "gvjjqmyRKPC4"
      },
      "execution_count": null,
      "outputs": []
    },
    {
      "cell_type": "code",
      "source": [
        "fft_size, hop_size = 4096, 2048\n",
        "_, _, X = ss.stft(x, nperseg=fft_size, noverlap=fft_size-hop_size)\n",
        "np.random.seed(111)\n",
        "ilrma = GaussILRMA(n_basis=5)\n",
        "print(ilrma)\n",
        "Y = ilrma(X, iteration=100)\n",
        "_, y = ss.istft(Y, nperseg=fft_size, noverlap=fft_size-hop_size)\n",
        "y = y[:, :T]\n",
        "\n",
        "for idx in range(n_sources):\n",
        "    display(ipd.Audio(y[idx], rate=sr))"
      ],
      "metadata": {
        "id": "aks-DI0BKZNd"
      },
      "execution_count": null,
      "outputs": []
    },
    {
      "cell_type": "code",
      "source": [
        "from separation import bss_eval_sources\n",
        "from itertools import permutations\n",
        "\n",
        "\n",
        "def SDR(est, egs, mix):\n",
        "    '''\n",
        "        calculate SDR\n",
        "        est: Network generated audio\n",
        "        egs: Ground Truth\n",
        "    '''\n",
        "    length = egs.shape[0]\n",
        "    sdr, _, _, _ = bss_eval_sources(egs[:length], est[:length])\n",
        "    mix_sdr, _, _, _ = bss_eval_sources(egs[:length], mix[:length])\n",
        "    return sdr-mix_sdr\n",
        "\n",
        "\n",
        "def permutation_sdr(est_list, egs_list, mix, per):\n",
        "    n = len(est_list)\n",
        "    result = sum([SDR(est_list[a], egs_list[b], mix)\n",
        "                      for a, b in enumerate(per)])/n\n",
        "    return result"
      ],
      "metadata": {
        "id": "K7zD92r5KzGn"
      },
      "execution_count": null,
      "outputs": []
    },
    {
      "cell_type": "code",
      "source": [
        "a, sr = sf.read(\"piano.wav\")\n",
        "b, sr = sf.read(\"violon.wav\")"
      ],
      "metadata": {
        "id": "7E4huGxNc3nr"
      },
      "execution_count": null,
      "outputs": []
    },
    {
      "cell_type": "code",
      "source": [
        "from itertools import permutations\n"
      ],
      "metadata": {
        "id": "ZV022pQriEiG"
      },
      "execution_count": null,
      "outputs": []
    },
    {
      "cell_type": "code",
      "source": [
        "SDR(mixture.T[0], a, a+b)"
      ],
      "metadata": {
        "id": "K96YSuQskrIe"
      },
      "execution_count": null,
      "outputs": []
    },
    {
      "cell_type": "code",
      "source": [
        "for p in permutations(range(2)):\n",
        "  print(permutation_sdr(y, np.stack([a,b]),a+b,p))"
      ],
      "metadata": {
        "id": "J9knRVX1c8Xr"
      },
      "execution_count": null,
      "outputs": []
    },
    {
      "cell_type": "code",
      "source": [
        "x_l, sr = sf.read(\"mix_hf1.wav\")\n",
        "x_r, sr = sf.read(\"mix_hf2.wav\")\n",
        "a, sr = sf.read(\"homme.wav\")\n",
        "b, sr = sf.read(\"femme.wav\")\n",
        "x = np.stack([x_l, x_r])\n",
        "n_channels, T = x.shape\n",
        "n_sources = n_channels\n",
        "\n",
        "fft_size, hop_size = 4096, 2048\n",
        "_, _, X = ss.stft(x, nperseg=fft_size, noverlap=fft_size-hop_size)\n",
        "sdrs = []\n",
        "for n_bases in range(2,10):\n",
        "  print(n_bases)\n",
        "  sdrs_base = []\n",
        "  for _ in range(10):\n",
        "    ilrma = GaussILRMA(n_basis=n_bases)\n",
        "    Y = ilrma(X, iteration=100)\n",
        "    _, y = ss.istft(Y, nperseg=fft_size, noverlap=fft_size-hop_size)\n",
        "    y = y[:, :T]\n",
        "    sdrs_base.append(np.max(\n",
        "    [permutation_sdr(y, np.stack([a,b]),a+b,p) for p in permutations(range(2))] \n",
        "    ))\n",
        "  sdrs.append(sdrs_base)\n"
      ],
      "metadata": {
        "id": "e0zRKvmh2Y1a"
      },
      "execution_count": null,
      "outputs": []
    },
    {
      "cell_type": "code",
      "source": [
        "sdrs = np.array(sdrs)"
      ],
      "metadata": {
        "id": "JE3QwBx86UiO"
      },
      "execution_count": null,
      "outputs": []
    },
    {
      "cell_type": "code",
      "source": [
        "sdrs.mean(axis=1)"
      ],
      "metadata": {
        "id": "OGngEcw8DcRi"
      },
      "execution_count": null,
      "outputs": []
    },
    {
      "cell_type": "code",
      "source": [
        "plt.bar(np.arange(2,10),sdrs.mean(axis=1))"
      ],
      "metadata": {
        "id": "7eCUccK9CfBL"
      },
      "execution_count": null,
      "outputs": []
    },
    {
      "cell_type": "code",
      "source": [
        "sdrs.shape"
      ],
      "metadata": {
        "id": "hEJGS4FpHd8-"
      },
      "execution_count": null,
      "outputs": []
    },
    {
      "cell_type": "code",
      "source": [
        "plt.boxplot(sdrs.T, positions=range(2,10))\n",
        "plt.xlabel('Number of basis')\n",
        "plt.ylabel('SDR')\n",
        "plt.title('Boxplot of SDR as a function of basis number')\n",
        "plt.savefig('SDR.png')\n",
        "plt.show()"
      ],
      "metadata": {
        "id": "6XP2TkzIHW3n"
      },
      "execution_count": null,
      "outputs": []
    },
    {
      "cell_type": "code",
      "source": [
        "display(ipd.Audio(y[0], rate=sr))\n",
        "display(ipd.Audio(y[1], rate=sr))"
      ],
      "metadata": {
        "id": "pk6GFINJ6t7-"
      },
      "execution_count": null,
      "outputs": []
    },
    {
      "cell_type": "code",
      "source": [
        "SDR(mixture.T[1], a, a+b)"
      ],
      "metadata": {
        "id": "QycmFP96_L3D"
      },
      "execution_count": null,
      "outputs": []
    },
    {
      "cell_type": "code",
      "source": [
        "mixture, sr = sf.read(\"test.wav\")\n",
        "x = mixture.T\n",
        "n_channels, T = x.shape\n",
        "n_sources = n_channels\n",
        "\n",
        "for idx in range(n_channels):\n",
        "    display(ipd.Audio(x[idx], rate=sr))"
      ],
      "metadata": {
        "id": "3g0pJ-TdAJxn"
      },
      "execution_count": null,
      "outputs": []
    },
    {
      "cell_type": "code",
      "source": [
        "display(ipd.Audio(mixture.T, rate=sr))"
      ],
      "metadata": {
        "id": "0u_XKtUTPutM"
      },
      "execution_count": null,
      "outputs": []
    },
    {
      "cell_type": "code",
      "source": [
        "fft_size, hop_size = 11000, 2048\n",
        "_, _, X = ss.stft(x, nperseg=fft_size, noverlap=fft_size-hop_size)\n",
        "np.random.seed(111)\n",
        "ilrma = GaussILRMA(n_basis=5)\n",
        "print(ilrma)\n",
        "Y = ilrma(X, iteration=100)\n",
        "_, y = ss.istft(Y, nperseg=fft_size, noverlap=fft_size-hop_size)\n",
        "y = y[:, :T]"
      ],
      "metadata": {
        "id": "v_puPMhUF6_V"
      },
      "execution_count": null,
      "outputs": []
    },
    {
      "cell_type": "code",
      "source": [
        "display(ipd.Audio(y[0], rate=sr))\n",
        "display(ipd.Audio(y[1], rate=sr))"
      ],
      "metadata": {
        "id": "Xo83oClmF6pI"
      },
      "execution_count": null,
      "outputs": []
    },
    {
      "cell_type": "code",
      "source": [
        "mixture, sr = sf.read(\"test2.wav\")\n",
        "x = mixture.T\n",
        "n_channels, T = x.shape\n",
        "n_sources = n_channels\n",
        "\n",
        "for idx in range(n_channels):\n",
        "    display(ipd.Audio(x[idx], rate=sr))\n"
      ],
      "metadata": {
        "id": "JW9eOsekG1zt"
      },
      "execution_count": null,
      "outputs": []
    },
    {
      "cell_type": "code",
      "source": [
        "fft_size, hop_size = 11000, 2048\n",
        "_, _, X = ss.stft(x, nperseg=fft_size, noverlap=fft_size-hop_size)\n",
        "np.random.seed(111)\n",
        "ilrma = GaussILRMA(n_basis=10)\n",
        "print(ilrma)\n",
        "Y = ilrma(X, iteration=100)\n",
        "_, y = ss.istft(Y, nperseg=fft_size, noverlap=fft_size-hop_size)\n",
        "y = y[:, :T]"
      ],
      "metadata": {
        "id": "x1ZbFX0YOA6E"
      },
      "execution_count": null,
      "outputs": []
    },
    {
      "cell_type": "code",
      "source": [
        "display(ipd.Audio(y[0], rate=sr))\n",
        "display(ipd.Audio(y[1], rate=sr))"
      ],
      "metadata": {
        "id": "Ie6KMYpqODbR"
      },
      "execution_count": null,
      "outputs": []
    },
    {
      "cell_type": "code",
      "source": [
        ""
      ],
      "metadata": {
        "id": "g4YMGrKPOE0T"
      },
      "execution_count": null,
      "outputs": []
    }
  ]
}